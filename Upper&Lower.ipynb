{
  "nbformat": 4,
  "nbformat_minor": 0,
  "metadata": {
    "colab": {
      "provenance": [],
      "authorship_tag": "ABX9TyNIPZXRxw5cmK7YVNFfjVK9",
      "include_colab_link": true
    },
    "kernelspec": {
      "name": "python3",
      "display_name": "Python 3"
    },
    "language_info": {
      "name": "python"
    }
  },
  "cells": [
    {
      "cell_type": "markdown",
      "metadata": {
        "id": "view-in-github",
        "colab_type": "text"
      },
      "source": [
        "<a href=\"https://colab.research.google.com/github/JUHYUNCHOI/Python-Data-Analysis-and-Image-Processing-Tutorial/blob/master/Upper%26Lower.ipynb\" target=\"_parent\"><img src=\"https://colab.research.google.com/assets/colab-badge.svg\" alt=\"Open In Colab\"/></a>"
      ]
    },
    {
      "cell_type": "markdown",
      "source": [
        "# 문제   "
      ],
      "metadata": {
        "id": "RrI1b3dteklM"
      }
    },
    {
      "cell_type": "markdown",
      "source": [
        "### **upper & lower**\n",
        "\n",
        "```python\n",
        ">>> 'Julia'.upper() # 모두 대문자로 만들어 주는 함수입니다.\n",
        "JULIA\n",
        ">>> 'Julia'.lower() # 모두 소문자로 만들어 주는 함수입니다.\n",
        "julia\n",
        "```\n",
        "\n",
        "**사용 예시1**)\n",
        "\n",
        "사용자로부터 입력받은 이름 중에 Julia가 있는지 확인하는 프로그램을 완성하고자 합니다.\n",
        "\n",
        "사용자가 우리가 원하는대로 Julia로 입력을 할까요?\n",
        "\n",
        "고객들은 각기 다른 방식으로 입력할 것입니다.\n",
        "\n",
        "Julia, JULIA, julia 등등\n",
        "\n",
        "그런데 아래 코드와 같이 구현한다면 JULIA, julia이름은 찾아지지 않을 것입니다.\n",
        "\n",
        "```python\n",
        "name_list = ['Julia', 'Girin', 'Jane', 'JULIA', 'julia']\n",
        "\n",
        "for name in name_list:\n",
        "    if name == 'Julia':\n",
        "        print(f'{name}을 찾았음')\n",
        "\n",
        "'''\n",
        "결과:\n",
        "Julia을 찾았음\n",
        "'''\n",
        "```\n",
        "\n",
        "이를 방지하기 위해 upper() 또는 lower()을 사용 할 수 있습니다.\n",
        "\n",
        "```python\n",
        "name_list = ['Julia', 'Girin', 'Jane', 'JULIA', 'julia']\n",
        "\n",
        "for name in name_list:\n",
        "    if name.upper() == 'JULIA':\n",
        "        print(f'{name}을 찾았음')\n",
        "\n",
        "'''\n",
        "Julia을 찾았음\n",
        "JULIA을 찾았음\n",
        "julia을 찾았음\n",
        "'''\n",
        "```\n",
        "\n",
        "```python\n",
        "name_list = ['Julia', 'Girin', 'Jane', 'JULIA', 'julia']\n",
        "\n",
        "for name in name_list:\n",
        "    if name.lower() == 'julia':\n",
        "        print(f'{name}을 찾았음')\n",
        "\n",
        "'''\n",
        "Julia을 찾았음\n",
        "JULIA을 찾았음\n",
        "julia을 찾았음\n",
        "'''\n",
        "```\n",
        "\n",
        "**사용 예시 2**)\n",
        "\n",
        "기린 학교 학생들의 이름을 학교 사이트에 이쁘게 꾸미고 싶습니다. 그런데 학생들 이름이 대문자 소문자 각기 뒤죽박죽 정리되어 있습니다.\n",
        "\n",
        "name_list = [’girin’, ‘julia’, ‘James’, ‘paul’, ‘Alex’, ‘Jamie’]\n",
        "\n",
        "이름 그대로 사이트에 올리게 되면 너무 못생길 것 같아 첫 자는 대문자 나머지는 소문자로 바꾸고 싶습니다.\n",
        "\n",
        "이럴 경우 upper(), lower()을 사용하면 좋습니다.\n",
        "\n",
        "```python\n",
        "name_list = ['girin', 'julia', 'James', 'paul', 'Alex', 'Jamie']\n",
        "\n",
        "for name in name_list:\n",
        "    print(f'{name[0].upper()}{name[1:].lower()}', end = '  ')\n",
        "             --------------   ----------------\n",
        "             첫번째는 대문자    나머지는 소문자\n",
        "'''\n",
        "결과:\n",
        "Girin  Julia  James  Paul  Alex  Jamie\n",
        "\n",
        "```\n",
        "\n",
        "\n"
      ],
      "metadata": {
        "id": "6t2zB2lGemaU"
      }
    },
    {
      "cell_type": "markdown",
      "source": [
        "# 문제    "
      ],
      "metadata": {
        "id": "M_WboZUkeqOd"
      }
    },
    {
      "cell_type": "markdown",
      "source": [
        "1. 다음 코드의 결과는 무엇 일까요?\n",
        "\n",
        "```python\n",
        ">>> var = 'Julia'\n",
        ">>> var.upper()\n",
        "```\n",
        "\n"
      ],
      "metadata": {
        "id": "Ac7HMnwievpv"
      }
    },
    {
      "cell_type": "markdown",
      "source": [
        "답)   \n",
        "\n",
        "\n"
      ],
      "metadata": {
        "id": "11EU_dCOfAlR"
      }
    },
    {
      "cell_type": "markdown",
      "source": [
        "2. 다음 코드의 결과는 무엇 일까요?\n",
        "\n",
        "```python\n",
        ">>> var = 'Julia'\n",
        ">>> var.lower()\n",
        "```\n",
        "\n"
      ],
      "metadata": {
        "id": "kuE1aIjjeygY"
      }
    },
    {
      "cell_type": "markdown",
      "source": [
        "답)   \n",
        "\n",
        "\n",
        "\n"
      ],
      "metadata": {
        "id": "7KzJffuYfEUB"
      }
    },
    {
      "cell_type": "markdown",
      "source": [
        "3. 다음 학생들 중 julia가 몇 명인지 계산하는 프로그램을 만들려고 합니다. (ㄱ)에 들어갈 코드를 완성 하세요.\n",
        "\n",
        "```python\n",
        "name_list = ['julia', 'girin', 'haha', 'james', 'Julia']\n",
        "\n",
        "count = 0\n",
        "for name in name_list:\n",
        "    if (ㄱ) == 'JULIA' :\n",
        "         count += 1\n",
        "\n",
        "print(count)\n",
        "```\n",
        "\n",
        "```python\n",
        "결과:\n",
        "2\n",
        "```\n",
        "\n"
      ],
      "metadata": {
        "id": "CzNeg0iOe1Yy"
      }
    },
    {
      "cell_type": "markdown",
      "source": [
        "답)   \n",
        "\n",
        "\n",
        "\n"
      ],
      "metadata": {
        "id": "1C2RbeZ7fJM6"
      }
    },
    {
      "cell_type": "markdown",
      "source": [
        "4. 다음과 같은 결과가 나오기 위해 (ㄱ)에 들어갈 코드를 완성 하세요.\n",
        "\n",
        "```python\n",
        "name_list = ['julia', 'girin', 'haha', 'james', 'Julia']\n",
        "\n",
        "for name in name_list:\n",
        "    print(ㄱ, end=' ')\n",
        "```\n",
        "\n",
        "```python\n",
        "결과:\n",
        "JULIA GIRIN HAHA JAMES JULIA\n",
        "```\n",
        "\n"
      ],
      "metadata": {
        "id": "JJY0ICe2e65M"
      }
    },
    {
      "cell_type": "markdown",
      "source": [
        "답)   \n",
        "\n",
        "\n",
        "\n",
        "\n"
      ],
      "metadata": {
        "id": "NwP8vabcfVIy"
      }
    },
    {
      "cell_type": "markdown",
      "source": [
        "5. 다음과 같은 결과가 나오기 위해 (ㄱ)에 들어갈 코드를 완성 하세요.\n",
        "\n",
        "```python\n",
        "name_list = ['julia', 'girin', 'haha', 'james', 'Julia']\n",
        "\n",
        "for name in name_list:\n",
        "    print(ㄱ, end=' ')\n",
        "```\n",
        "\n",
        "```python\n",
        "결과:\n",
        "Julia Girin Haha James Julia\n",
        "```"
      ],
      "metadata": {
        "id": "ZLO62rgre8js"
      }
    },
    {
      "cell_type": "markdown",
      "source": [
        "답)    \n",
        "\n",
        "\n",
        "\n",
        "\n",
        "\n"
      ],
      "metadata": {
        "id": "HtOB3u8yfcnC"
      }
    }
  ]
}