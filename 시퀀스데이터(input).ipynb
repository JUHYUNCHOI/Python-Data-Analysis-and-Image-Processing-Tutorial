{
  "nbformat": 4,
  "nbformat_minor": 0,
  "metadata": {
    "colab": {
      "provenance": [],
      "authorship_tag": "ABX9TyN6ITmE69CUJVAXnObLGd/D",
      "include_colab_link": true
    },
    "kernelspec": {
      "name": "python3",
      "display_name": "Python 3"
    },
    "language_info": {
      "name": "python"
    }
  },
  "cells": [
    {
      "cell_type": "markdown",
      "metadata": {
        "id": "view-in-github",
        "colab_type": "text"
      },
      "source": [
        "<a href=\"https://colab.research.google.com/github/JUHYUNCHOI/Python-Data-Analysis-and-Image-Processing-Tutorial/blob/master/%EC%8B%9C%ED%80%80%EC%8A%A4%EB%8D%B0%EC%9D%B4%ED%84%B0(input).ipynb\" target=\"_parent\"><img src=\"https://colab.research.google.com/assets/colab-badge.svg\" alt=\"Open In Colab\"/></a>"
      ]
    },
    {
      "cell_type": "markdown",
      "source": [
        "1. 다음 문자열을 입력받아 거꾸로 출력하는 프로그램을 완성하시오.\n",
        "\n",
        "   입력예제:\n",
        "   abcdefg\n",
        "\n",
        "   출력예제:\n",
        "   gfedcba"
      ],
      "metadata": {
        "id": "XlIQ4LICVKyV"
      }
    },
    {
      "cell_type": "code",
      "execution_count": null,
      "metadata": {
        "id": "nWfikc6sVKQB"
      },
      "outputs": [],
      "source": []
    },
    {
      "cell_type": "markdown",
      "source": [
        "2. 다음 문자열을 입력받아 앞 두 글자만 출력하는 프로그램을 완성하시오.\n",
        "\n",
        "   입력예제:\n",
        "   abcdefg\n",
        "\n",
        "   출력예제:\n",
        "   ab"
      ],
      "metadata": {
        "id": "hUg1nSsJVdFC"
      }
    },
    {
      "cell_type": "code",
      "source": [],
      "metadata": {
        "id": "KSMu-TCfV36Q"
      },
      "execution_count": null,
      "outputs": []
    },
    {
      "cell_type": "markdown",
      "source": [
        "3. 팰린드롬(Palindrom)이란 앞뒤로 똑같은 단어를 말합니다. 기러기, 토마토도 팰린드롬의 하나이지요.\n",
        "\n",
        "    영어단어 abccba, abcba도 팰린드롬입니다.\n",
        "\n",
        "    입력받은 문자열을 팰린드롬으로 만드는 프로젝트를 완성하세요. 예를들어, abc를 입력받으면 abccba를 출력합니다.\n",
        "\n",
        "    입력예제:\n",
        "    배고파\n",
        "\n",
        "    출력예제:\n",
        "    배고파파고배"
      ],
      "metadata": {
        "id": "wqAj2M0zWZjq"
      }
    },
    {
      "cell_type": "code",
      "source": [],
      "metadata": {
        "id": "CbBEbmTMWrEh"
      },
      "execution_count": null,
      "outputs": []
    }
  ]
}