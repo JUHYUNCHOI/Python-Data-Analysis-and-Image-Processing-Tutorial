{
  "nbformat": 4,
  "nbformat_minor": 0,
  "metadata": {
    "colab": {
      "provenance": [],
      "authorship_tag": "ABX9TyOxJmEKanXyqcRP/qd/0CqF",
      "include_colab_link": true
    },
    "kernelspec": {
      "name": "python3",
      "display_name": "Python 3"
    },
    "language_info": {
      "name": "python"
    }
  },
  "cells": [
    {
      "cell_type": "markdown",
      "metadata": {
        "id": "view-in-github",
        "colab_type": "text"
      },
      "source": [
        "<a href=\"https://colab.research.google.com/github/JUHYUNCHOI/Python-Data-Analysis-and-Image-Processing-Tutorial/blob/master/%EC%8B%9C%ED%80%80%EC%8A%A4%EB%8D%B0%EC%9D%B4%ED%84%B0%ED%83%80%EC%9E%852.ipynb\" target=\"_parent\"><img src=\"https://colab.research.google.com/assets/colab-badge.svg\" alt=\"Open In Colab\"/></a>"
      ]
    },
    {
      "cell_type": "markdown",
      "source": [
        "1. 다음 문자열에서 '다'을 출력하세요.    "
      ],
      "metadata": {
        "id": "apN1d060nf37"
      }
    },
    {
      "cell_type": "code",
      "execution_count": null,
      "metadata": {
        "id": "vVbs5Aq3eGg0"
      },
      "outputs": [],
      "source": [
        "a = '가나다라마바사'"
      ]
    },
    {
      "cell_type": "markdown",
      "source": [
        "2. 다음 리스트에서 6을 출력하세요."
      ],
      "metadata": {
        "id": "fxedNsj3nsT7"
      }
    },
    {
      "cell_type": "code",
      "source": [
        "a = [1, 3, 4, 5, 6, 7, 8]\n"
      ],
      "metadata": {
        "id": "Ci7IueIbgXJr"
      },
      "execution_count": null,
      "outputs": []
    },
    {
      "cell_type": "markdown",
      "source": [
        "3. 다음 코드의 결과는 무엇인가요?   \n",
        "\n",
        "```\n",
        "a = '저의 이름은 기린입니다.'\n",
        "\n",
        "print(a[5])  \n",
        "```\n"
      ],
      "metadata": {
        "id": "Pl9-E9xyn45d"
      }
    },
    {
      "cell_type": "code",
      "source": [],
      "metadata": {
        "id": "3MHBirZ6oREr"
      },
      "execution_count": null,
      "outputs": []
    },
    {
      "cell_type": "markdown",
      "source": [
        "4. 다음 코드의 결과는 무엇인가요?   \n",
        "\n",
        "```\n",
        "a = '저의 이름은 기린입니다.'\n",
        "\n",
        "for i in range(2,5):\n",
        "   print(a[i], end = '')\n",
        "```"
      ],
      "metadata": {
        "id": "XkrVNaEToR9O"
      }
    },
    {
      "cell_type": "code",
      "source": [],
      "metadata": {
        "id": "QDqYgEE3orsz"
      },
      "execution_count": null,
      "outputs": []
    },
    {
      "cell_type": "markdown",
      "source": [
        "5. 다음과 같이 입력값을 거꾸로 출력하는 프로그램을 완성하세요.\n",
        "\n",
        "   결과:   \n",
        "   사바마라다나가  "
      ],
      "metadata": {
        "id": "BWWeGRjjosWC"
      }
    },
    {
      "cell_type": "code",
      "source": [
        "a = '가나다라마바사'\n"
      ],
      "metadata": {
        "id": "3HmaNyoBo7Hj"
      },
      "execution_count": null,
      "outputs": []
    },
    {
      "cell_type": "markdown",
      "source": [
        "6. 다음 리스트를 거꾸로 출력하는 프로그램을 완성하세요.   \n",
        "   \n",
        "   결과:   \n",
        "   7 6 5 4 3 2 1"
      ],
      "metadata": {
        "id": "V7VScGpwpEl_"
      }
    },
    {
      "cell_type": "code",
      "source": [
        "a = [1,2,3,4,5,6,7]"
      ],
      "metadata": {
        "id": "6uVX9iC4pKB1"
      },
      "execution_count": null,
      "outputs": []
    },
    {
      "cell_type": "markdown",
      "source": [
        "7. 다음 리스트에서 2, 3, 4 출력하는 프로그램을 완성하세요.     \n",
        "\n",
        "   결과:   \n",
        "   2 3 4     "
      ],
      "metadata": {
        "id": "LiVa4e7Kpioy"
      }
    },
    {
      "cell_type": "code",
      "source": [
        "a = [1, 2, 3, 4, 5, 6, 7]\n"
      ],
      "metadata": {
        "id": "DfIA3JqTqBtA"
      },
      "execution_count": null,
      "outputs": []
    },
    {
      "cell_type": "markdown",
      "source": [
        "8. 다음 리스트에서 5, 4만 출력하는 프로그램을 완성하세요.\n",
        "\n",
        "   결과:   \n",
        "   5, 4"
      ],
      "metadata": {
        "id": "uw-Oxk3sqFM6"
      }
    },
    {
      "cell_type": "code",
      "source": [
        "a = [1, 2, 3, 4, 5, 6, 7]\n"
      ],
      "metadata": {
        "id": "4DaV-702qK9Q"
      },
      "execution_count": null,
      "outputs": []
    },
    {
      "cell_type": "markdown",
      "source": [
        "9. 다음 문자열에서 '다라마'만 출력하세요.   \n",
        "\n",
        "   결과:   \n",
        "   다라마   "
      ],
      "metadata": {
        "id": "eiDpHPCRqSuV"
      }
    },
    {
      "cell_type": "code",
      "source": [
        "a = '가나다라마바사'\n"
      ],
      "metadata": {
        "id": "Tywra9GDqrQh"
      },
      "execution_count": null,
      "outputs": []
    },
    {
      "cell_type": "markdown",
      "source": [
        "10. 다음 리스트에서 짝수 위치에 있는 숫자만 출력하세요.   \n",
        "\n",
        "    결과:   \n",
        "    3 5 7  "
      ],
      "metadata": {
        "id": "PdVC1iqQq7s4"
      }
    },
    {
      "cell_type": "code",
      "source": [
        "a = [2, 3, 4, 5, 6, 7, 8]\n",
        "\n"
      ],
      "metadata": {
        "id": "-P755fh9lo-u"
      },
      "execution_count": null,
      "outputs": []
    }
  ]
}